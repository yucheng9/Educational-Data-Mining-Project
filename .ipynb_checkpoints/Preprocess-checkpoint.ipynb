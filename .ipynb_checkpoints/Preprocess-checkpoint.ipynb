{
 "cells": [
  {
   "cell_type": "markdown",
   "metadata": {},
   "source": [
    "# Lab 4: Clustering and Linear Regression"
   ]
  },
  {
   "cell_type": "markdown",
   "metadata": {},
   "source": [
    "## Yucheng Jin (yucheng9)"
   ]
  },
  {
   "cell_type": "markdown",
   "metadata": {},
   "source": [
    "## Due: September 25, 2019 11:59 PM"
   ]
  },
  {
   "cell_type": "markdown",
   "metadata": {},
   "source": [
    "### Logistics"
   ]
  },
  {
   "cell_type": "markdown",
   "metadata": {},
   "source": [
    "See the website."
   ]
  },
  {
   "cell_type": "markdown",
   "metadata": {},
   "source": [
    "### What You Will Need to Know For This Lab"
   ]
  },
  {
   "cell_type": "markdown",
   "metadata": {},
   "source": [
    "* K-means clustering\n",
    "* Vector Quantization\n",
    "* Nearest Neighbors Classification\n",
    "* Linear Regression"
   ]
  },
  {
   "cell_type": "markdown",
   "metadata": {},
   "source": [
    "### Preamble (don't change this)"
   ]
  },
  {
   "cell_type": "code",
   "execution_count": 13,
   "metadata": {},
   "outputs": [
    {
     "name": "stdout",
     "output_type": "stream",
     "text": [
      "Populating the interactive namespace from numpy and matplotlib\n"
     ]
    },
    {
     "name": "stderr",
     "output_type": "stream",
     "text": [
      "C:\\Users\\Tab\\Anaconda3\\lib\\site-packages\\IPython\\core\\magics\\pylab.py:160: UserWarning: pylab import has clobbered these variables: ['random', 'f']\n",
      "`%matplotlib` prevents importing * from pylab and numpy\n",
      "  \"\\n`%matplotlib` prevents importing * from pylab and numpy\"\n"
     ]
    }
   ],
   "source": [
    "%pylab inline\n",
    "import numpy as np\n",
    "from sklearn import neighbors\n",
    "from numpy import genfromtxt\n",
    "import scipy.spatial.distance as dist\n",
    "import random\n",
    "from sklearn.cluster import KMeans\n",
    "from PIL import Image\n",
    "from sklearn import linear_model\n",
    "from sklearn.preprocessing import StandardScaler\n",
    "from sklearn.model_selection import train_test_split"
   ]
  },
  {
   "cell_type": "markdown",
   "metadata": {},
   "source": [
    "### Problem 1: Selecting the number of clusters (30 points)"
   ]
  },
  {
   "cell_type": "markdown",
   "metadata": {},
   "source": [
    "Write a function which implements K-means clustering. \n",
    "\n",
    "You will be given as input:\n",
    "* A $(N,d)$ numpy.ndarray of unlabeled data (with each row as a feature vector), data\n",
    "* A scalar $K$ which indicates the number of clusters\n",
    "* A scalar representing the number of iterations, niter (this is your stopping criterion/criterion for convergence)\n",
    "\n",
    "Your output will be a tuple consisting of a vector of length N containing which cluster ($0,\\ldots,K-1$) a feature vector is in and a $(K,d)$ matrix with the rows containing the cluster centers. \n",
    "\n",
    "Do not use scikit-learn or similar for implement K-means clustering. You may use `scipy.spatial.distance.cdist` to calculate distances. Initialize the centers randomly without replacement with points from the data set. `random.sample` may be useful for this. <b>(10 points)</b>"
   ]
  },
  {
   "cell_type": "code",
   "execution_count": 2,
   "metadata": {},
   "outputs": [],
   "source": [
    "def kMeans(data,K,niter):\n",
    "    # initialize cluster centers\n",
    "    Kmeans_centers = data[np.random.choice(data.shape[0], K, replace = False),]\n",
    "    # initialize data clusters as an array of 0's\n",
    "    Kmeans_clusters = np.zeros(np.size(data, 0))\n",
    "    \n",
    "    for j in range(niter):\n",
    "        # assign x_i to cluster z_i = argmin||x_i - u_k||, k = 1, ..., K\n",
    "        distance_matrix = dist.cdist(data, Kmeans_centers, 'euclidean')\n",
    "        Kmeans_clusters = np.argmin(distance_matrix, axis = 1)\n",
    "                    \n",
    "        # update the center of cluster k as the mean of its data points\n",
    "        for k in range(K):    \n",
    "            Kmeans_centers_temp = np.zeros(np.size(data, 1))\n",
    "            cluster_count = 0\n",
    "            # find each x_i is in which cluster\n",
    "            for i in range(np.size(data, 0)):\n",
    "                if (Kmeans_clusters[i] == k): \n",
    "                    Kmeans_centers_temp += data[i]\n",
    "                    cluster_count += 1\n",
    "            Kmeans_centers[k] = Kmeans_centers_temp / cluster_count\n",
    "    \n",
    "    return (Kmeans_clusters, Kmeans_centers)"
   ]
  },
  {
   "cell_type": "markdown",
   "metadata": {},
   "source": [
    "The K-means clustering problem tries to minimize the following quantity by selecting $\\{z_i\\}_{i=1}^N$ and $\\{\\mu_k\\}_{k=1}^K$:\n",
    "$$J_K(\\{z_i\\}_{i=1}^N ,\\{\\mu_k\\}_{k=1}^K)=\\sum_{i=1}^N \\lVert \\mathbf{x}_i - \\mathbf{\\mu}_{z_i} \\rVert^2$$\n",
    "where $\\mathbf{\\mu}_{z_i}$ is the center of the cluster to which $\\mathbf{x}_i$ is assigned.\n",
    "\n",
    "One visual heuristic to choose the number of clusters from the data (where the number of clusters is not known a priori) is to estimate the optimal value of $J_K(\\{z_i\\}_{i=1}^N ,\\{\\mu_k\\}_{k=1}^K)$, $J^*(K)$ , for different values of $K$ and look for an \"elbow\" or \"knee\" in the curve of $J^*$ versus $K$ and choose that value of $K$. \n",
    "\n",
    "In this part of the problem, you will run $K$-means 100 times for each $K=2,\\ldots,10$ and calculate $J_K(\\{z_i\\}_{i=1}^N ,\\{\\mu_k\\}_{k=1}^K)$ for the clustering given by $K$-means. Use the smallest value of $J_K(\\{z_i\\}_{i=1}^N ,\\{\\mu_k\\}_{k=1}^K)$ in the runs of $K$-means for each value of $K$ to form an estimate of $J^*(K)$. Plot this estimate versus $K$. Which $K$ should you pick by this heuristic? Use niter=100 for each run of $K$-means.\n",
    "\n",
    "For an attempt to formalize this heuristic, see Tibshirani, Robert, Guenther Walther, and Trevor Hastie. \"Estimating the number of clusters in a data set via the gap statistic.\" Journal of the Royal Statistical Society: Series B (Statistical Methodology) 63.2 (2001): 411-423. Sometimes, an elbow does not exist in the curve or there are multiple elbows or the $K$ value of an elbow cannot be unambiguously identified. Further material can be found on <a href=\"http://en.wikipedia.org/wiki/Determining_the_number_of_clusters_in_a_data_set#The_Elbow_Method\">Wikipedia</a> as well.  \n",
    "\n",
    "Note: Your code should be relatively quick -- a few minutes, at worst. <b>(10 points)</b>"
   ]
  },
  {
   "cell_type": "code",
   "execution_count": 3,
   "metadata": {},
   "outputs": [],
   "source": [
    "# Load up some data, which we will store in a variable called problem1\n",
    "problem1= genfromtxt('problem1.csv', delimiter=',')"
   ]
  },
  {
   "cell_type": "code",
   "execution_count": 4,
   "metadata": {},
   "outputs": [
    {
     "name": "stdout",
     "output_type": "stream",
     "text": [
      "When K =  2 , the value of J(K) is 124.77496210758807\n"
     ]
    },
    {
     "ename": "KeyboardInterrupt",
     "evalue": "",
     "output_type": "error",
     "traceback": [
      "\u001b[1;31m---------------------------------------------------------------------------\u001b[0m",
      "\u001b[1;31mKeyboardInterrupt\u001b[0m                         Traceback (most recent call last)",
      "\u001b[1;32m<ipython-input-4-d8bf87cf0b63>\u001b[0m in \u001b[0;36m<module>\u001b[1;34m\u001b[0m\n\u001b[0;32m      6\u001b[0m     \u001b[1;32mfor\u001b[0m \u001b[0mi\u001b[0m \u001b[1;32min\u001b[0m \u001b[0mrange\u001b[0m\u001b[1;33m(\u001b[0m\u001b[1;36m100\u001b[0m\u001b[1;33m)\u001b[0m\u001b[1;33m:\u001b[0m\u001b[1;33m\u001b[0m\u001b[1;33m\u001b[0m\u001b[0m\n\u001b[0;32m      7\u001b[0m         \u001b[1;31m# result of (Kmeans_clusters, Kmeans_centers)\u001b[0m\u001b[1;33m\u001b[0m\u001b[1;33m\u001b[0m\u001b[1;33m\u001b[0m\u001b[0m\n\u001b[1;32m----> 8\u001b[1;33m         \u001b[0mKmeans_tuple\u001b[0m \u001b[1;33m=\u001b[0m \u001b[0mkMeans\u001b[0m\u001b[1;33m(\u001b[0m\u001b[0mproblem1\u001b[0m\u001b[1;33m,\u001b[0m \u001b[0mk\u001b[0m\u001b[1;33m,\u001b[0m \u001b[1;36m100\u001b[0m\u001b[1;33m)\u001b[0m\u001b[1;33m\u001b[0m\u001b[1;33m\u001b[0m\u001b[0m\n\u001b[0m\u001b[0;32m      9\u001b[0m         \u001b[0mKmeans_clusters\u001b[0m \u001b[1;33m=\u001b[0m \u001b[0mKmeans_tuple\u001b[0m\u001b[1;33m[\u001b[0m\u001b[1;36m0\u001b[0m\u001b[1;33m]\u001b[0m\u001b[1;33m\u001b[0m\u001b[1;33m\u001b[0m\u001b[0m\n\u001b[0;32m     10\u001b[0m         \u001b[0mKmeans_centers\u001b[0m \u001b[1;33m=\u001b[0m \u001b[0mKmeans_tuple\u001b[0m\u001b[1;33m[\u001b[0m\u001b[1;36m1\u001b[0m\u001b[1;33m]\u001b[0m\u001b[1;33m\u001b[0m\u001b[1;33m\u001b[0m\u001b[0m\n",
      "\u001b[1;32m<ipython-input-2-2915f7c8aa8c>\u001b[0m in \u001b[0;36mkMeans\u001b[1;34m(data, K, niter)\u001b[0m\n\u001b[0;32m     19\u001b[0m                     \u001b[0mKmeans_centers_temp\u001b[0m \u001b[1;33m+=\u001b[0m \u001b[0mdata\u001b[0m\u001b[1;33m[\u001b[0m\u001b[0mi\u001b[0m\u001b[1;33m]\u001b[0m\u001b[1;33m\u001b[0m\u001b[1;33m\u001b[0m\u001b[0m\n\u001b[0;32m     20\u001b[0m                     \u001b[0mcluster_count\u001b[0m \u001b[1;33m+=\u001b[0m \u001b[1;36m1\u001b[0m\u001b[1;33m\u001b[0m\u001b[1;33m\u001b[0m\u001b[0m\n\u001b[1;32m---> 21\u001b[1;33m             \u001b[0mKmeans_centers\u001b[0m\u001b[1;33m[\u001b[0m\u001b[0mk\u001b[0m\u001b[1;33m]\u001b[0m \u001b[1;33m=\u001b[0m \u001b[0mKmeans_centers_temp\u001b[0m \u001b[1;33m/\u001b[0m \u001b[0mcluster_count\u001b[0m\u001b[1;33m\u001b[0m\u001b[1;33m\u001b[0m\u001b[0m\n\u001b[0m\u001b[0;32m     22\u001b[0m \u001b[1;33m\u001b[0m\u001b[0m\n\u001b[0;32m     23\u001b[0m     \u001b[1;32mreturn\u001b[0m \u001b[1;33m(\u001b[0m\u001b[0mKmeans_clusters\u001b[0m\u001b[1;33m,\u001b[0m \u001b[0mKmeans_centers\u001b[0m\u001b[1;33m)\u001b[0m\u001b[1;33m\u001b[0m\u001b[1;33m\u001b[0m\u001b[0m\n",
      "\u001b[1;31mKeyboardInterrupt\u001b[0m: "
     ]
    }
   ],
   "source": [
    "import matplotlib.pyplot as plt\n",
    "# run K-means 100 times for K = 2, ..., 10\n",
    "Kmeans_JK = np.zeros(11)\n",
    "for k in range(2, 11):\n",
    "    Kmeans_JK[k] = 10000\n",
    "    for i in range(100):\n",
    "        # result of (Kmeans_clusters, Kmeans_centers)\n",
    "        Kmeans_tuple = kMeans(problem1, k, 100)\n",
    "        Kmeans_clusters = Kmeans_tuple[0]\n",
    "        Kmeans_centers = Kmeans_tuple[1]\n",
    "        Kmeans_JK_temp = 0\n",
    "        # compute JK({z_i}, {u_k}) = Sum ||x_i - u_zi||^2\n",
    "        for j in range(k):\n",
    "                                                # convert every center to a 1*2 array\n",
    "            Kmeans_distances = dist.cdist(problem1, np.array([Kmeans_centers[j]]), 'sqeuclidean')\n",
    "            # loop through all points to update JK\n",
    "            for l in range(np.size(Kmeans_clusters)):\n",
    "                if (Kmeans_clusters[l] == j):\n",
    "                    Kmeans_JK_temp += Kmeans_distances[l][0]\n",
    "        if (Kmeans_JK_temp < Kmeans_JK[k]):\n",
    "            Kmeans_JK[k] = Kmeans_JK_temp\n",
    "    print(\"When K = \", k, \", the value of J(K) is\", Kmeans_JK[k])\n",
    "plt.plot(Kmeans_JK)\n",
    "plt.xlabel('K')\n",
    "plt.xlim(2, 10) \n",
    "plt.ylabel('J*(K)')\n",
    "plt.show()"
   ]
  },
  {
   "cell_type": "markdown",
   "metadata": {},
   "source": [
    "[Insert Answer Here]  \n",
    "From the above plot, the \"knee\" in the $J^{*}(K)$ versus $K$ curve is $K$ = 4, because $J^{*}(K)$ decreases rapidly before 4 and flattens out after 4. I will pick the number of clusters as 4 (or some number around 4)."
   ]
  },
  {
   "cell_type": "markdown",
   "metadata": {},
   "source": [
    "Using the value of $K$ you determined from the elbow, perform K-means clustering on the data. \n",
    "Plot it as a scatter plot with the colors given by the labels. <b>(5 points)</b>"
   ]
  },
  {
   "cell_type": "code",
   "execution_count": null,
   "metadata": {},
   "outputs": [],
   "source": [
    "kMeans_result = kMeans(problem1, 4, 100)\n",
    "colors = (\"y\", \"r\", \"g\", \"b\")\n",
    "plt.scatter(problem1[:,0], problem1[:,1], c = kMeans_result[0])"
   ]
  },
  {
   "cell_type": "markdown",
   "metadata": {},
   "source": [
    "Should you pick the $K$ such that $J^*(K)$ is minimized? Why or why not? <b>(5 points)</b>"
   ]
  },
  {
   "cell_type": "markdown",
   "metadata": {},
   "source": [
    "[Insert Answer Here]  \n",
    "No, because it may result in overfitting. Since we pick the value of $K$ such that the grouping is more intuitive and obvious, if we pick a larger $K$ such that $J^{*}(K)$ is minimized, we may no longer find the grouping obvious but more complicated, which just makes little sense. We uses the \"elbow\" or \"knee\" method to find a kink in the $J^{*}(K)$ versus $K$ curve to find a $K$ that can not only distinguish between clusters, but also avoids overfitting."
   ]
  },
  {
   "cell_type": "markdown",
   "metadata": {},
   "source": [
    "### Problem 2: Vector Quantization (40 points)"
   ]
  },
  {
   "cell_type": "markdown",
   "metadata": {},
   "source": [
    "In this problem, you will implement vector quantization. You will use `sklearn.cluster.KMeans` for the K-means implementation and use k-means++ as the initialization method. See Section 4.2.1 in the notes for details. \n",
    "\n",
    "Write a function to generate a codebook for vector quantization. You will be given inputs:\n",
    "* A $(N,M)$ numpy.ndarray representing a greyscale image, called image. (If we want to generate our codebook from multiple images, we can concatenate the images before running them through this function).\n",
    "* A scalar $B$, for which you will use $B \\times B$ blocks for vector quantization. You may assume $N$ and $M$ are divisible by $B$.\n",
    "* A scalar $K$, which is the size of your codebook\n",
    "\n",
    "You will return:\n",
    "* The codebook as a $(K,B^2)$ numpy.ndarray. \n",
    "<b>(10 points)</b>"
   ]
  },
  {
   "cell_type": "code",
   "execution_count": null,
   "metadata": {},
   "outputs": [],
   "source": [
    "def trainVQ(image,B,K):\n",
    "    Image_split = np.split(image, image.shape[1]/B, axis = 1)\n",
    "    Image_split = np.array(Image_split).reshape(-1, B)\n",
    "    Image_split = np.split(Image_split, (image.shape[0] * image.shape[1]) / (B*B), axis = 0)\n",
    "    Image_split = [x.flatten() for x in Image_split]\n",
    "    Image_split = np.array(Image_split)\n",
    "    \n",
    "    VQ = KMeans(n_clusters = K)\n",
    "    VQ.fit(Image_split)\n",
    "    \n",
    "    return(VQ.cluster_centers_)"
   ]
  },
  {
   "cell_type": "markdown",
   "metadata": {},
   "source": [
    "Write a function which compresses an image against a given codebook. You will be given inputs:\n",
    "* A $(N,M)$ numpy.ndarray representing a greyscale image, called image. You may assume $N$ and $M$ are divisible by $B$.\n",
    "* A $(K,B^2)$ codebook called codebook\n",
    "* $B$\n",
    "\n",
    "You will return:\n",
    "* A $(N/B,M/B)$ numpy.ndarray consisting of the indices in the codebook used to approximate the image. \n",
    "\n",
    "You can use the nearest neighbor classifier from scikit-learn if you want (though it is not necessary) to map blocks to their nearest codeword. <b>(10 points)</b>"
   ]
  },
  {
   "cell_type": "code",
   "execution_count": null,
   "metadata": {},
   "outputs": [],
   "source": [
    "from sklearn.neighbors import NearestNeighbors\n",
    "\n",
    "def compressImg(image, codebook, B):\n",
    "    Compress_image = np.split(image, image.shape[1]/B, axis = 1)\n",
    "    Compress_image = np.array(Compress_image).reshape(-1, B)\n",
    "    Compress_image = np.split(Compress_image, (image.shape[0] * image.shape[1]) / (B*B), axis = 0)\n",
    "    Compress_image = [x.flatten() for x in Compress_image]\n",
    "    Compress_image = np.array(Compress_image)\n",
    "    \n",
    "    Compress = NearestNeighbors(n_neighbors = 1, algorithm = 'kd_tree')\n",
    "    Compress.fit(codebook)\n",
    "    \n",
    "    indices = Compress.kneighbors(Compress_image, return_distance = False)\n",
    "    indices = np.resize(indices,(int(image.shape[1]/B), int(image.shape[0]/B)))\n",
    "    \n",
    "    return indices.T"
   ]
  },
  {
   "cell_type": "markdown",
   "metadata": {},
   "source": [
    "Write a function to reconstruct an image from its codebook. You will be given inputs:\n",
    "* A $(N/B,M/B)$ numpy.ndarray containing the indices of the codebook for each block called indices\n",
    "* A codebook as a $(K,B^2)$ numpy.ndarray called codebook\n",
    "* $B$\n",
    "\n",
    "You will return a $(N,M)$ numpy.ndarray representing the image. <b>(10 points)</b>"
   ]
  },
  {
   "cell_type": "code",
   "execution_count": null,
   "metadata": {},
   "outputs": [],
   "source": [
    "def decompressImg(indices, codebook, B):\n",
    "    Decompress_indices = indices.T\n",
    "    Decompress_indices = Decompress_indices.flatten()\n",
    "    \n",
    "    Decompress_image = np.array([codebook[x] for x in Decompress_indices])\n",
    "    Decompress_image = [x for x in Decompress_image]\n",
    "    Decompress_image = [x.reshape(-1, B) for x in Decompress_image]\n",
    "    Decompress_image = np.array(Decompress_image)\n",
    "    Decompress_image = Decompress_image.reshape(-1, B)\n",
    "    Decompress_image = np.split(Decompress_image, indices.shape[1], axis = 0)\n",
    "    \n",
    "    Result = [x for x in Decompress_image]\n",
    "    Result = np.hstack(Result)\n",
    "    \n",
    "    return Result"
   ]
  },
  {
   "cell_type": "markdown",
   "metadata": {},
   "source": [
    "Run your vector quantizer with $5 \\times 5$ blocks on the provided image with codebook sizes $K=2,5,10,20,50,100,200$ (i.e. generate codebooks from this image of those sizes, compress the image using those codebooks and reconstruct the images). Display and comment on the reconstructed images (you may be quantitative (e.g. PSNR) or qualitative). Which code book would you pick? Why? Make sure to take into account the bits per pixel used by the compressor.\n",
    "\n",
    "Note the number of bits per pixel can be approximated as $\\frac{\\log_2 K}{25}$ and the codebook takes approximately $200K$ bits (assuming each pixel is stored as 8 bits). Some good ideas on quantitative arguments for codebook size can be found in Gonzalez & Woods, Digital Image Processing 3e or Gersho & Gray, Signal Compression & Vector Quantization. It is not necessary to look at these references for quantitative arguments, though. <b>(10 points)</b>\n",
    "\n",
    "The image used is under fair use from [Daily Illini](https://dailyillini.com/special-sections/international-student-guide/2018/08/15/how-to-dress-for-the-midwestern-weather/)."
   ]
  },
  {
   "cell_type": "code",
   "execution_count": null,
   "metadata": {},
   "outputs": [],
   "source": [
    "# The provided image is stored in image\n",
    "image = np.asarray(Image.open(\"mrtb.jpg\").convert(\"L\"))\n",
    "imshow(image, cmap = cm.Greys_r)"
   ]
  },
  {
   "cell_type": "code",
   "execution_count": null,
   "metadata": {},
   "outputs": [],
   "source": [
    "plt.figure()\n",
    "plt.title(\"K = 2\")\n",
    "codebook = trainVQ(image, 5, 2)\n",
    "compress_2 = compressImg(image, codebook, 5)\n",
    "decompress_2 = decompressImg(compress_2, codebook, 5)\n",
    "imshow(decompress_2, cmap = cm.Greys_r)\n",
    "plt.show()\n",
    "print(\"Bits per pixel = \", math.log2(2)/25, \"bits/pixel\")\n",
    "print(\"Codebook size = 400 bits\")\n",
    "\n",
    "plt.figure(5)\n",
    "plt.title(\"K = 5\")\n",
    "codebook = trainVQ(image, 5, 5)\n",
    "compress_5 = compressImg(image, codebook, 5)\n",
    "decompress_5 = decompressImg(compress_5, codebook, 5)\n",
    "imshow(decompress_5, cmap = cm.Greys_r)\n",
    "plt.show()\n",
    "print(\"Bits per pixel = \", math.log2(5)/25, \"bits/pixel\")\n",
    "print(\"Codebook size = 1,000 bits\")\n",
    "\n",
    "plt.figure(10)\n",
    "plt.title(\"K = 10\")\n",
    "codebook = trainVQ(image, 5, 10)\n",
    "compress_10 = compressImg(image, codebook, 5)\n",
    "decompress_10 = decompressImg(compress_10, codebook, 5)\n",
    "imshow(decompress_10, cmap = cm.Greys_r)\n",
    "plt.show()\n",
    "print(\"Bits per pixel = \", math.log2(10)/25, \"bits/pixel\")\n",
    "print(\"Codebook size = 2,000 bits\")\n",
    "\n",
    "plt.figure(20)\n",
    "plt.title(\"K = 20\")\n",
    "codebook = trainVQ(image, 5, 20)\n",
    "compress_20 = compressImg(image, codebook, 5)\n",
    "decompress_20 = decompressImg(compress_20, codebook, 5)\n",
    "imshow(decompress_20, cmap = cm.Greys_r)\n",
    "plt.show()\n",
    "print(\"Bits per pixel = \", math.log2(20)/25, \"bits/pixel\")\n",
    "print(\"Codebook size = 4,000 bits\")\n",
    "\n",
    "plt.figure(50)\n",
    "plt.title(\"K = 50\")\n",
    "codebook = trainVQ(image, 5, 50)\n",
    "compress_50 = compressImg(image, codebook, 5)\n",
    "decompress_50 = decompressImg(compress_50, codebook, 5)\n",
    "imshow(decompress_50, cmap = cm.Greys_r)\n",
    "plt.show()\n",
    "print(\"Bits per pixel = \", math.log2(50)/25, \"bits/pixel\")\n",
    "print(\"Codebook size = 10,000 bits\")\n",
    "\n",
    "plt.figure(100)\n",
    "plt.title(\"K = 100\")\n",
    "codebook = trainVQ(image, 5, 100)\n",
    "compress_100 = compressImg(image, codebook, 5)\n",
    "decompress_100 = decompressImg(compress_100, codebook, 5)\n",
    "imshow(decompress_100, cmap = cm.Greys_r)\n",
    "plt.show()\n",
    "print(\"Bits per pixel = \", math.log2(100)/25, \"bits/pixel\")\n",
    "print(\"Codebook size = 20,000 bits\")\n",
    "\n",
    "plt.figure(200)\n",
    "plt.title(\"K = 200\")\n",
    "codebook = trainVQ(image, 5, 200)\n",
    "compress_200 = compressImg(image, codebook, 5)\n",
    "decompress_200 = decompressImg(compress_200, codebook, 5)\n",
    "imshow(decompress_200, cmap = cm.Greys_r)\n",
    "plt.show()\n",
    "print(\"Bits per pixel = \", math.log2(200)/25, \"bits/pixel\")\n",
    "print(\"Codebook size = 40,000 bits\")"
   ]
  },
  {
   "cell_type": "code",
   "execution_count": null,
   "metadata": {},
   "outputs": [],
   "source": [
    "Ks = [2, 5, 10, 20, 50, 100, 200]\n",
    "Bits_per_pixel = [math.log2(2)/25, math.log2(5)/25, math.log2(10)/25, \n",
    "                  math.log2(20)/25, math.log2(50)/25, math.log2(100)/25, math.log2(200)/25]\n",
    "\n",
    "plt.plot(Ks, Bits_per_pixel)\n",
    "plt.xlabel('K');\n",
    "plt.ylabel('bits/pixel');\n",
    "plt.show()"
   ]
  },
  {
   "cell_type": "markdown",
   "metadata": {},
   "source": [
    "Q: Display and comment on the reconstructed images (you may be quantitative (e.g. PSNR) or qualitative). Which code book would you pick? Why? Make sure to take into account the bits per pixel used by the compressor."
   ]
  },
  {
   "cell_type": "markdown",
   "metadata": {},
   "source": [
    "[Insert Answer Here]  \n",
    "As we increse the number of codebook size, the resolution of the reconstructed image becomes better, which means that we achieve a better approximation of the original image and reduce the amount of lost signal.  \n",
    "I will choose $K = 100$. Since from the bits/pixel versus $K$ plot we find that $K = 100$ is a kink, before $100$, bits per pixel increases rapidly, after $100$, it increases slowly. Therefore, $K = 100$ balances both size of compression and image resolution well.  "
   ]
  },
  {
   "cell_type": "markdown",
   "metadata": {},
   "source": [
    "### Problem 3: Using K-means to Accelerate Nearest Neighbors (20 points)"
   ]
  },
  {
   "cell_type": "markdown",
   "metadata": {},
   "source": [
    "In this problem, you will use K-means clustering to accelerate nearest neighbors, as outlined in the notes (Algorithm 7). Use `sklearn.neighbors.KNeighborsClassifier` for nearest neighbor classification and `sklearn.cluster.KMeans` for the K-means implementation with k-means++ as the initialization method.\n",
    "\n",
    "You will write a function to generate prototypes from labeled data. It will have input:\n",
    "* Training features as $(N,d)$ numpy.ndarray called traindata\n",
    "* Training labels as a length $N$ vector called trainlabels\n",
    "* $K$, the number of prototypes under each class\n",
    "\n",
    "You will return a tuple containing:\n",
    "* The prototypes selected as a $(K*\\text{number of classes},d)$ numpy.ndarray\n",
    "* The corresponding labels as a $K*\\text{number of classes}$ length vector \n",
    "\n",
    "You may assume there are at least $K$ examples under each class. `set(trainlabels)` will give you the set of labels. <b>(10 points)</b>"
   ]
  },
  {
   "cell_type": "code",
   "execution_count": null,
   "metadata": {},
   "outputs": [],
   "source": [
    "def generatePrototypes(traindata,trainlabels,K):\n",
    "    Prototypes = []\n",
    "    Prototype_labels = []\n",
    "\n",
    "    for l in set(trainlabels):\n",
    "        # apply K-means clustering on the set of training samples with y_i = l to\n",
    "        # get cluster centers {u_l1, u_l2, ..., u_lk}\n",
    "        clusters = KMeans(n_clusters = K)\n",
    "        clusters.fit(traindata[trainlabels == l])\n",
    "        Prototypes.append(clusters.cluster_centers_)\n",
    "    \n",
    "        for i in range(K):\n",
    "            Prototype_labels.append(l)\n",
    "            \n",
    "    Prototypes = np.vstack(Prototypes)\n",
    "    \n",
    "    return (Prototypes, Prototype_labels)"
   ]
  },
  {
   "cell_type": "markdown",
   "metadata": {},
   "source": [
    "Train a nearest neighbor classifier (i.e. 1-NN)  with 1,10,50,100 and 200 prototypes per class for the digits data set from Lab 2. Comment on the validation error and computational complexity versus the nearest neighbor classifier from Lab 2 (error=0.056) and the LDA classifier (error=0.115) from Lab 2. Which classifier would you pick? Why? \n",
    "\n",
    "Note that this data set is generated from zip code digits from US mail, and the US Postal Service processes <a href=\"https://about.usps.com/who-we-are/postal-facts/one-day-by-the-numbers.htm\">hundreds of millions of pieces of mail</a> a day, so a small improvement in error can lead to tremendous savings in terms of mis-routed packages (which cost a lot of money and time to re-transport). <b>(10 points)</b>"
   ]
  },
  {
   "cell_type": "code",
   "execution_count": null,
   "metadata": {},
   "outputs": [],
   "source": [
    "# Load the digits data set\n",
    "\n",
    "#Read in the Training Data\n",
    "traindata_tmp= genfromtxt('zip.train', delimiter=' ')\n",
    "#The training labels are stored in \"trainlabels\", training features in \"traindata\"\n",
    "trainlabels=traindata_tmp[:,0]\n",
    "traindata=traindata_tmp[:,1:]\n",
    "\n",
    "\n",
    "#Read in the Validation Data\n",
    "valdata_tmp= genfromtxt('zip.val', delimiter=' ')\n",
    "#The validation labels are stored in \"vallabels\", validation features in \"valdata\"\n",
    "vallabels=valdata_tmp[:,0]\n",
    "valdata=valdata_tmp[:,1:]\n"
   ]
  },
  {
   "cell_type": "code",
   "execution_count": null,
   "metadata": {},
   "outputs": [],
   "source": [
    "from sklearn.neighbors import KNeighborsClassifier\n",
    "\n",
    "Prototypes = generatePrototypes(traindata, trainlabels, 1)\n",
    "NN = KNeighborsClassifier(n_neighbors=1)\n",
    "NN.fit(Prototypes[0], Prototypes[1])\n",
    "print(\"K = 1, validation error = \", 1 - NN.score(valdata, vallabels))\n",
    "\n",
    "Prototypes = generatePrototypes(traindata, trainlabels, 10)\n",
    "NN = KNeighborsClassifier(n_neighbors=1)\n",
    "NN.fit(Prototypes[0], Prototypes[1])\n",
    "print(\"K = 10, validation error = \", 1 - NN.score(valdata, vallabels))\n",
    "\n",
    "Prototypes = generatePrototypes(traindata, trainlabels, 50)\n",
    "NN = KNeighborsClassifier(n_neighbors=1)\n",
    "NN.fit(Prototypes[0], Prototypes[1])\n",
    "print(\"K = 50, validation error = \", 1 - NN.score(valdata, vallabels))\n",
    "\n",
    "Prototypes = generatePrototypes(traindata, trainlabels, 100)\n",
    "NN = KNeighborsClassifier(n_neighbors=1)\n",
    "NN.fit(Prototypes[0], Prototypes[1])\n",
    "print(\"K = 100, validation error = \", 1 - NN.score(valdata, vallabels))\n",
    "\n",
    "Prototypes = generatePrototypes(traindata, trainlabels, 200)\n",
    "NN = KNeighborsClassifier(n_neighbors=1)\n",
    "NN.fit(Prototypes[0], Prototypes[1])\n",
    "print(\"K = 200, validation error = \", 1 - NN.score(valdata, vallabels))"
   ]
  },
  {
   "cell_type": "markdown",
   "metadata": {},
   "source": [
    "[Insert Answer Here]  \n",
    "In terms of validation error, the nearest neighbor with 200 prototypes per class (error = 0.0543) is better than nearest neighbor (error = 0.056) and LDA (error = 0.115) from lab2. In terms of computational complexity, since LDA has computational complexity of $O(Nd^{2})$ if $N>d$ (where $N$ is the cardinality of training set and $d$ is the dimension of each sample), or $O(d^{3})$ otherwise, and nearest neighbor has computational complexity of $O(Kd)$, so nearest neighbor is better than LDA in computational complexity. Because using K-means can accelerate NN, so the nearest neighbor with 200 prototypes per class is the best of 3 also in computational complexity.  \n",
    "Therefore, the nearest neighbor with 200 prototypes per class performs better in both error and computational complexity. Furthermore, in practice, the US Postal Service processes hundreds of millions of pieces of mail a day, so a small improvement in error can lead to tremendous savings in terms of mis-routed packages and save a lot of money and time, so I will pick the nearest neighbor with 200 prototypes per class to perform the task."
   ]
  },
  {
   "cell_type": "markdown",
   "metadata": {},
   "source": [
    "### Problem 4: Linear Regression (35 points)"
   ]
  },
  {
   "cell_type": "markdown",
   "metadata": {},
   "source": [
    "In this problem, you will do model selection for linear regression using Ordinary Least Squares, Ridge Regression and the LASSO.\n",
    "\n",
    "The dataset you will use has 8 features:\n",
    "\n",
    "    lcavol - log cancer volume\n",
    "    lcaweight - log prostate weight\n",
    "    age\n",
    "    lbph - log of amount of benign prostatic hyperplasia\n",
    "    svi - seminal vesicle invasion\n",
    "    lcp - log capsular penetration\n",
    "    gleason - Gleason score\n",
    "    pgg45 - percent of Gleason scores 4 or 5\n",
    "\n",
    "and you will predict the level of a prostate-specific antigen. The data set was collected from a set of men about to receive a radical prostatectomy. More details are given in Section 3.2.1 in Elements of Statistical Learning 2e by Hastie et al."
   ]
  },
  {
   "cell_type": "code",
   "execution_count": 161,
   "metadata": {},
   "outputs": [],
   "source": [
    "# delete the rows without output vector (requestd variables)\n",
    "def del_output_not_existed(data, varList, outVarList):\n",
    "    ret = data\n",
    "    for outVar in outVarList:\n",
    "        col_idx = varList.index(outVar)\n",
    "        col = ret[:, col_idx]\n",
    "        del_row_idx = np.where(np.isnan(col))\n",
    "        ret = np.delete(ret, del_row_idx, axis=0)\n",
    "    return ret"
   ]
  },
  {
   "cell_type": "code",
   "execution_count": 162,
   "metadata": {},
   "outputs": [],
   "source": [
    "# deal with the missing data by replacing with mean of column\n",
    "def fill_nan_with_mean(data, varList, outVarList):\n",
    "    ret = data\n",
    "    for i in range(1,len(varList)):\n",
    "        if varList[i] in outVarList:\n",
    "            continue\n",
    "        col = ret[:,i]\n",
    "        if len(np.isnan(col)) == len(col):\n",
    "            col[np.isnan(col)] = 0.\n",
    "        else:\n",
    "            col[np.isnan(col)] = np.mean(col[~np.isnan(col)])\n",
    "    return ret"
   ]
  },
  {
   "cell_type": "code",
   "execution_count": 163,
   "metadata": {},
   "outputs": [],
   "source": [
    "import csv\n",
    "\n",
    "# get data\n",
    "filepath = 'merge_student_parent.csv'\n",
    "data = []  #Creates an empty list\n",
    "f = open(filepath) #Opens the file path in the default 'r' mode\n",
    "reader = csv.reader(f)\n",
    "for row in reader:\n",
    "    data.append(row)\n",
    "f.close()    # data is now a list of lists\n",
    "\n",
    "# get the variables list\n",
    "varList = data[0]\n",
    "\n",
    "# create the list of output variables\n",
    "'''\n",
    "# output variables \n",
    "# w2b1401\n",
    "# w2cogscore w2cog3pl\n",
    "# w2chn w2upchn\n",
    "# w2mat w2upmat\n",
    "# w2eng w2upeng\n",
    "'''\n",
    "# outVarList = ['w2b1401', 'w2cogscore','w2cog3pl', 'w2chn', 'w2upchn', 'w2mat', 'w2upmat', 'w2eng', 'w2upeng']\n",
    "\n",
    "# used for test\n",
    "outVarList = ['w2b1401']\n",
    "\n",
    "# Load the data\n",
    "# trainp= genfromtxt('trainp.csv', delimiter=',')\n",
    "data = genfromtxt('merge_student_parent.csv',  delimiter=',')\n",
    "\n",
    "# delete the rows without output vector (requestd variables)\n",
    "data = data[1:]\n",
    "data = del_output_not_existed(data, varList, outVarList)\n",
    "data = fill_nan_with_mean(data, varList, outVarList)\n",
    "\n",
    "\n",
    "input_num = data.shape[0]\n",
    "var_num = data.shape[1]\n",
    "\n",
    "inVarIdx = list(filter(lambda x:not(varList[x] in outVarList), range(var_num)))\n",
    "outVarIdx = list(filter(lambda x:varList[x] in outVarList, range(var_num)))\n",
    "\n",
    "train_data_num = int(input_num * 2/3)\n",
    "\n",
    "# Training data: \n",
    "trainfeat=data[:train_data_num, inVarIdx] #Training features (rows are feature vectors)\n",
    "trainresp=data[:train_data_num, outVarIdx] #Training responses\n",
    "\n",
    "\n",
    "# Validation data:\n",
    "valfeat=data[train_data_num + 1:, inVarIdx] #Validation Features (rows are feature vectors)\n",
    "valresp=data[train_data_num + 1:, outVarIdx] #Validation Response\n"
   ]
  },
  {
   "cell_type": "code",
   "execution_count": 164,
   "metadata": {},
   "outputs": [],
   "source": [
    "# Standardize and center the features\n",
    "ftsclr=StandardScaler()\n",
    "trainfeat = ftsclr.fit_transform(trainfeat)\n",
    "valfeat= ftsclr.transform(valfeat)\n",
    "# and the responses (note that the example in the notes has centered but not \n",
    "#                    standardized responses, so your numbers won't match up)\n",
    "rsclr=StandardScaler()\n",
    "trainresp = (rsclr.fit_transform(trainresp.reshape(-1,1))).reshape(-1)\n",
    "valresp= (rsclr.transform(valresp.reshape(-1,1))).reshape(-1)\n",
    "\n",
    "# The training features are in trainfeat\n",
    "# The training responses are in trainresp\n",
    "# The validation features are in valfeat\n",
    "# The validation responses are in valresp"
   ]
  },
  {
   "cell_type": "markdown",
   "metadata": {},
   "source": [
    "Since we centered the responses, we can begin with a benchmark model: Always predict the response as zero (mean response on the training data). Calculate the validation RSS for this model. **(5 points)**\n",
    "\n",
    "If another model does worse than this, it is a sign that something is amiss.\n",
    "\n",
    "Note: The RSS on a data set with $V$ samples is given by $\\frac{1}{V} \\lVert \\mathbf{y} - \\hat{\\mathbf{y}} \\rVert^2$ where $\\mathbf{y}$ is a vector of the responses, and $\\hat{\\mathbf{y}}$ is the predicted responses on the data."
   ]
  },
  {
   "cell_type": "code",
   "execution_count": 165,
   "metadata": {},
   "outputs": [
    {
     "name": "stdout",
     "output_type": "stream",
     "text": [
      "Benchmark RSS =  0.9897626884660055\n"
     ]
    }
   ],
   "source": [
    "zeroresp = np.zeros(valresp.size)\n",
    "dif = zeroresp - valresp\n",
    "sqdif = np.dot(dif, dif)\n",
    "RSS = sum(sqdif) / valresp.size\n",
    "print(\"Benchmark RSS = \", RSS)"
   ]
  },
  {
   "cell_type": "markdown",
   "metadata": {},
   "source": [
    "[Insert Answer Here]  \n",
    "The benchmark validation RSS is 0.733852091912677."
   ]
  },
  {
   "cell_type": "markdown",
   "metadata": {},
   "source": [
    "First, you will try (Ordinary) Least Squares. Use `sklearn.linear_model.LinearRegression` with the default options. Calculate the validation RSS. <b>(5 points)</b>\n",
    "\n",
    "Note: The .score() method returns an [$R^2$  value](https://en.wikipedia.org/wiki/Coefficient_of_determination), not the RSS, so you shouldn't use it anywhere in this problem. "
   ]
  },
  {
   "cell_type": "code",
   "execution_count": 166,
   "metadata": {},
   "outputs": [
    {
     "name": "stdout",
     "output_type": "stream",
     "text": [
      "Validation RSS =  0.7263437929868771\n"
     ]
    }
   ],
   "source": [
    "from sklearn.linear_model import LinearRegression\n",
    "\n",
    "LinearRegression = LinearRegression()\n",
    "LinearRegression.fit(trainfeat, trainresp)\n",
    "\n",
    "# RSS = y.T * y - 2 * y.T * X * beta + beta.T * X.T * X * beta\n",
    "X = valfeat\n",
    "y = valresp\n",
    "beta = LinearRegression.coef_\n",
    "First = np.dot(y, y)\n",
    "Second = 2 * (np.dot(y.T, X).dot(beta))\n",
    "Third = np.dot((np.dot(valfeat, beta)).T, np.dot(X, beta))\n",
    "print(\"Validation RSS = \", (First - Second + Third)/valfeat.shape[0])"
   ]
  },
  {
   "cell_type": "markdown",
   "metadata": {},
   "source": [
    "[Insert Answer Here]  \n",
    "The validation RSS is 0.36230709903819786."
   ]
  },
  {
   "cell_type": "markdown",
   "metadata": {},
   "source": [
    "Now, you will apply ridge regression with `sklearn.linear_model.Ridge`. \n",
    "\n",
    "Sweep the regularization/tuning parameter $\\alpha=0,\\ldots,100$ with 1000 equally spaced values. \n",
    "\n",
    "Make a plot of the RSS on the validation set versus $\\alpha$. What is the minimizing $\\alpha$, corresponding coefficients and validation error? \n",
    "\n",
    "Larger values of $\\alpha$ shrink the weights in the model more. $\\alpha=0$ corresponds to the LS solution. <b>(10 points)</b>"
   ]
  },
  {
   "cell_type": "code",
   "execution_count": 167,
   "metadata": {},
   "outputs": [
    {
     "name": "stdout",
     "output_type": "stream",
     "text": [
      "Minimizing alpha =  99.9999999999986\n",
      "Coefficients =  [ 9.86772403e-03 -1.08352141e-01  3.74534780e-02 -1.56963657e-02\n",
      " -1.01969762e-02  3.45966566e-03 -2.10601320e-02  3.14634760e-02\n",
      " -1.55377581e-02 -4.45456745e-02 -5.25558108e-03  2.81881329e-02\n",
      "  7.68712656e-02  1.00189524e-03 -8.13438051e-03  5.39005350e-04\n",
      " -7.50595988e-04 -2.61119014e-02  2.81716375e-02 -2.24870165e-03\n",
      "  1.28098754e-02  1.81064080e-03  1.27196504e-02 -1.12021144e-03\n",
      " -6.57020163e-03 -1.88394376e-02  1.37362829e-02 -7.92342383e-03\n",
      "  1.56841896e-02 -3.72916711e-02  1.84180542e-02  3.30364550e-03\n",
      "  3.72272322e-03  1.39863201e-02  1.79543050e-02 -2.24153234e-02\n",
      " -1.31544022e-02  1.36411028e-02 -4.99511260e-03 -8.49016927e-03\n",
      "  4.26942996e-02 -4.26408729e-03 -2.20335578e-02 -2.27871383e-02\n",
      " -7.56344179e-03  2.73570503e-02 -7.32149473e-03  3.85124717e-02\n",
      "  2.59802686e-02  4.70996471e-03 -4.43227321e-02  2.25990887e-02\n",
      "  3.12399091e-02 -4.72551112e-02 -2.08997723e-02  2.10447337e-02\n",
      "  4.01891702e-04  1.77275008e-02  7.08971205e-03  8.80797456e-03\n",
      " -4.19905768e-02 -1.61119358e-03  5.33648874e-03 -2.82113721e-02\n",
      "  2.99697172e-02 -6.41256796e-02 -1.23415725e-01 -1.07117504e-01\n",
      " -3.79797569e-02  5.11184315e-02  1.54878540e-02 -4.50627958e-03\n",
      " -6.77517603e-03 -2.63938310e-02  0.00000000e+00  3.59397481e-02\n",
      "  3.69514765e-02 -1.36764023e-02 -4.03712784e-03 -1.07571984e-02\n",
      " -2.59076107e-02  2.88422145e-02  4.12281380e-03  2.23164022e-02\n",
      "  2.61805225e-02  3.26529874e-02 -4.87342639e-03  2.82504119e-03\n",
      "  4.05733248e-03 -2.65044078e-02  3.61228427e-02  3.90146888e-03\n",
      "  6.05493526e-03  2.23372485e-02 -8.00601754e-03  7.69836599e-03\n",
      " -3.68111459e-03 -8.06295647e-03  2.16015801e-02 -2.87612971e-02\n",
      "  1.67211226e-02  2.78312711e-02 -1.03632021e-02  4.18562712e-03\n",
      " -3.73176261e-03  8.17911372e-03  2.95439724e-02  7.03211119e-03\n",
      " -1.66872640e-02 -1.61684705e-02 -3.36626089e-02  2.64066739e-02\n",
      " -1.80703617e-03  3.59634428e-03 -5.30473362e-03 -2.82457840e-03\n",
      "  3.91452463e-03 -3.13750721e-02  2.17379853e-02 -4.16635491e-03\n",
      " -7.70434991e-03 -4.24285001e-02  4.06554719e-03  3.98021060e-02\n",
      "  2.82165170e-02  4.76426650e-02  2.01787277e-02 -3.29665038e-01\n",
      "  4.18452207e-02  6.26567631e-03 -4.62604457e-04 -2.65432387e-03\n",
      "  1.91351163e-02 -2.38472974e-02  3.39107432e-02  1.26743891e-02\n",
      "  8.62455333e-03  9.18792261e-03  3.54572366e-02  1.99555806e-03\n",
      " -1.00121646e-02  1.81308557e-02  4.10890026e-02  6.85027164e-03\n",
      "  6.61067573e-03  7.22754124e-03 -1.63989133e-02  1.32732136e-02\n",
      " -1.15508765e-02  6.05388131e-03 -4.87904492e-03 -8.14906151e-03\n",
      " -2.31405200e-02  1.08094512e-03  2.10529495e-02 -2.22765261e-02\n",
      "  3.76800548e-03  1.28442578e-02 -2.30176946e-02 -4.51680316e-03\n",
      "  2.38745872e-02  1.22196114e-03  1.63903467e-02  1.28898077e-02\n",
      "  2.07938319e-02 -3.52745425e-02  3.04216868e-02 -1.45850744e-03\n",
      "  1.04316061e-03  1.15587334e-02 -2.64512535e-02 -2.01384842e-02\n",
      " -5.79727651e-03  1.90408106e-02 -2.67827681e-02  1.19705051e-04\n",
      "  1.67769462e-02  2.61649782e-03 -2.35893985e-02  1.29052465e-02\n",
      " -3.37883614e-02  4.27054883e-03]\n",
      "Min validation error =  0.7131529093623298\n"
     ]
    },
    {
     "data": {
      "image/png": "[encoded data removed]",
      "text/plain": [
       "<Figure size 432x288 with 1 Axes>"
      ]
     },
     "metadata": {
      "needs_background": "light"
     },
     "output_type": "display_data"
    }
   ],
   "source": [
    "from sklearn.linear_model import Ridge\n",
    "\n",
    "RSS = []\n",
    "alphas = []\n",
    "a = -0.1\n",
    "\n",
    "for i in range(1, 1002):\n",
    "    a += 0.1 \n",
    "    \n",
    "    LinearRegression = Ridge(alpha = a)\n",
    "    LinearRegression.fit(trainfeat, trainresp)\n",
    "    \n",
    "    # RSS = y.T * y - 2 * y.T * X * beta + beta.T * X.T * X * beta\n",
    "    X = valfeat\n",
    "    y = valresp\n",
    "    beta = LinearRegression.coef_\n",
    "    First = np.dot(y, y)\n",
    "    Second = 2 * (np.dot(y.T, X).dot(beta))\n",
    "    Third = np.dot((np.dot(valfeat, beta)).T, np.dot(X, beta))\n",
    "    \n",
    "    RSS.append((First - Second + Third)/valfeat.shape[0])\n",
    "    alphas.append(a)\n",
    "\n",
    "Min_index = RSS.index(min(RSS))\n",
    "Min_alpha = alphas[Min_index]\n",
    "\n",
    "RidgeRegression = Ridge(Min_alpha)\n",
    "RidgeRegression.fit(trainfeat, trainresp)\n",
    "\n",
    "plot(alphas, RSS)\n",
    "\n",
    "print(\"Minimizing alpha = \", Min_alpha)\n",
    "print(\"Coefficients = \", RidgeRegression.coef_)\n",
    "print(\"Min validation error = \", min(RSS))"
   ]
  },
  {
   "cell_type": "markdown",
   "metadata": {},
   "source": [
    "[Insert Answer Here]  \n",
    "The alpha that minimizes RSS is 12.3, its corresponding coefficients are [0.42884607, 0.22632962, -0.06459576, 0.15540954, 0.21582, -0.05445595, 0.02587039, 0.13451361], and validation error is 0.3384853737648544."
   ]
  },
  {
   "cell_type": "markdown",
   "metadata": {},
   "source": [
    "Now, you will apply the LASSO with `sklearn.linear_model.Lasso`. \n",
    "\n",
    "Sweep the tuning/regularization parameter $\\alpha=0,\\ldots,1$ with 1000 equally spaced values. \n",
    "\n",
    "Make a plot of the RSS on the validation set versus $\\alpha$. What is the minimizing $\\alpha$, corresponding coefficients and validation error? \n",
    "\n",
    "\n",
    "Larger values of $\\alpha$ lead to sparser solutions (i.e. less features used in the model), with a sufficiently large value of $\\alpha$ leading to a constant prediction. Small values of $\\alpha$ are closer to the LS solution, with $\\alpha=0$ being the LS solution. <b>(10 points)</b>"
   ]
  },
  {
   "cell_type": "code",
   "execution_count": 168,
   "metadata": {},
   "outputs": [
    {
     "name": "stdout",
     "output_type": "stream",
     "text": [
      "Minimizing alpha =  0.01900000000000001\n",
      "Coefficients =  [-0.00000000e+00 -5.80844228e-02 -0.00000000e+00 -0.00000000e+00\n",
      " -0.00000000e+00 -0.00000000e+00  0.00000000e+00  0.00000000e+00\n",
      " -0.00000000e+00 -7.95264045e-03  0.00000000e+00 -0.00000000e+00\n",
      "  6.01737767e-02 -0.00000000e+00 -7.24336319e-03  0.00000000e+00\n",
      "  0.00000000e+00 -2.44655877e-02  0.00000000e+00  0.00000000e+00\n",
      "  0.00000000e+00 -0.00000000e+00 -0.00000000e+00  0.00000000e+00\n",
      " -0.00000000e+00 -0.00000000e+00  0.00000000e+00 -0.00000000e+00\n",
      "  0.00000000e+00 -0.00000000e+00  0.00000000e+00 -0.00000000e+00\n",
      " -0.00000000e+00  0.00000000e+00 -0.00000000e+00 -0.00000000e+00\n",
      " -0.00000000e+00 -0.00000000e+00 -0.00000000e+00 -0.00000000e+00\n",
      "  2.29686951e-02 -0.00000000e+00 -0.00000000e+00 -0.00000000e+00\n",
      "  0.00000000e+00  9.60041733e-04 -0.00000000e+00  2.70246253e-02\n",
      "  0.00000000e+00  0.00000000e+00 -0.00000000e+00  0.00000000e+00\n",
      "  0.00000000e+00  0.00000000e+00 -0.00000000e+00  1.59367238e-03\n",
      "  0.00000000e+00  0.00000000e+00  0.00000000e+00  0.00000000e+00\n",
      " -2.61268402e-02 -0.00000000e+00  0.00000000e+00 -0.00000000e+00\n",
      "  4.31516651e-03 -3.93597120e-02 -8.99097082e-02 -7.73769154e-02\n",
      " -6.79147445e-04  4.19711651e-02  3.33279876e-03 -0.00000000e+00\n",
      " -0.00000000e+00 -0.00000000e+00  0.00000000e+00  1.32990404e-02\n",
      "  1.38460533e-02 -0.00000000e+00  0.00000000e+00 -0.00000000e+00\n",
      " -0.00000000e+00  1.30453938e-02  0.00000000e+00  0.00000000e+00\n",
      "  2.02004823e-02  1.55604323e-02  0.00000000e+00 -0.00000000e+00\n",
      " -0.00000000e+00 -0.00000000e+00  1.91593136e-02  0.00000000e+00\n",
      "  0.00000000e+00  0.00000000e+00  0.00000000e+00  0.00000000e+00\n",
      " -0.00000000e+00 -0.00000000e+00 -0.00000000e+00 -6.03683516e-03\n",
      "  0.00000000e+00  2.41315456e-03  0.00000000e+00 -0.00000000e+00\n",
      "  0.00000000e+00  0.00000000e+00  0.00000000e+00  0.00000000e+00\n",
      " -0.00000000e+00 -0.00000000e+00 -0.00000000e+00  0.00000000e+00\n",
      "  0.00000000e+00  1.29603763e-05 -0.00000000e+00 -0.00000000e+00\n",
      " -0.00000000e+00 -0.00000000e+00  0.00000000e+00  0.00000000e+00\n",
      "  0.00000000e+00 -0.00000000e+00  0.00000000e+00  9.32397522e-03\n",
      "  1.29549620e-02  4.91526878e-02  9.66092621e-03 -3.28419166e-01\n",
      "  3.20170475e-02  0.00000000e+00  0.00000000e+00  0.00000000e+00\n",
      "  0.00000000e+00  0.00000000e+00  3.87990058e-02  0.00000000e+00\n",
      "  0.00000000e+00  0.00000000e+00  2.94718775e-02  0.00000000e+00\n",
      "  0.00000000e+00  1.86559239e-03  3.64077116e-02  0.00000000e+00\n",
      "  1.21270519e-03 -0.00000000e+00 -0.00000000e+00  0.00000000e+00\n",
      " -0.00000000e+00 -0.00000000e+00 -0.00000000e+00  0.00000000e+00\n",
      " -1.36617219e-02  0.00000000e+00 -0.00000000e+00 -0.00000000e+00\n",
      "  0.00000000e+00  0.00000000e+00 -1.73300897e-02 -0.00000000e+00\n",
      "  4.60634289e-03  0.00000000e+00  0.00000000e+00  6.01176875e-03\n",
      " -0.00000000e+00 -9.27075646e-03  2.11951921e-02 -0.00000000e+00\n",
      "  0.00000000e+00  0.00000000e+00  0.00000000e+00 -0.00000000e+00\n",
      " -0.00000000e+00  3.39331697e-02 -1.33246382e-02  0.00000000e+00\n",
      "  1.46904968e-04  0.00000000e+00 -0.00000000e+00  0.00000000e+00\n",
      " -1.32843017e-02  0.00000000e+00]\n",
      "Min validation error =  0.6914553847010435\n"
     ]
    },
    {
     "data": {
      "image/png": "[encoded data removed]",
      "text/plain": [
       "<Figure size 432x288 with 1 Axes>"
      ]
     },
     "metadata": {
      "needs_background": "light"
     },
     "output_type": "display_data"
    }
   ],
   "source": [
    "from sklearn.linear_model import Lasso\n",
    "\n",
    "RSS = []\n",
    "alphas = []\n",
    "a = 0\n",
    "\n",
    "for i in range(1, 1002):\n",
    "    # initial a = 0.001 since there is a warning that \"model does not converge well when a = 0\"\n",
    "    a += 0.001 \n",
    "    \n",
    "    LinearRegression = Lasso(alpha = a)\n",
    "    LinearRegression.fit(trainfeat, trainresp)\n",
    "    \n",
    "    # RSS = y.T * y - 2 * y.T * X * beta + beta.T * X.T * X * beta\n",
    "    X = valfeat\n",
    "    y = valresp\n",
    "    beta = LinearRegression.coef_\n",
    "    First = np.dot(y, y)\n",
    "    Second = 2 * (np.dot(y.T, X).dot(beta))\n",
    "    Third = np.dot((np.dot(valfeat, beta)).T, np.dot(X, beta))\n",
    "    \n",
    "    RSS.append((First - Second + Third)/valfeat.shape[0])\n",
    "    alphas.append(a)\n",
    "\n",
    "Min_index = RSS.index(min(RSS))\n",
    "Min_alpha = alphas[Min_index]\n",
    "plot(alphas, RSS)\n",
    "\n",
    "LassoRegression = Lasso(Min_alpha)\n",
    "LassoRegression.fit(trainfeat, trainresp)\n",
    "\n",
    "print(\"Minimizing alpha = \", Min_alpha)\n",
    "print(\"Coefficients = \", LassoRegression.coef_)\n",
    "print(\"Min validation error = \", min(RSS))"
   ]
  },
  {
   "cell_type": "markdown",
   "metadata": {},
   "source": [
    "[Insert Answer Here]  \n",
    "The alpha that minimizes RSS is 0.124, its corresponding coefficients are [0.47125423, 0.17524796, 0., 0.04938086, 0.11421009, 0., 0., 0.02988408], and validation error is 0.3142649165206583."
   ]
  },
  {
   "cell_type": "markdown",
   "metadata": {},
   "source": [
    "Which features were selected by Ridge Regression when minimizing the RSS on the validation set? Which features were selected by LASSO when minimizing the RSS on the validation set? Which model would you choose (and why)? <b>(5 points)</b>"
   ]
  },
  {
   "cell_type": "markdown",
   "metadata": {},
   "source": [
    "[Insert Answer Here]  \n",
    "Ridge Regression selects all features since its coefficients are all non-zero, while LASSO only selects 5 features: lcavol (log cancer volume), lcaweight (log prostate weight), lbph (log of amount of benign prostatic hyperplasia), svi (seminal vesicle invasion), and pgg45 (percent of Gleason scores 4 or 5). It ignores age, lcp (log capsular penetration), and gleason (Gleason score).  \n",
    "I will choose LASSO, since it removes some unimportant features and simplify the model."
   ]
  },
  {
   "cell_type": "markdown",
   "metadata": {},
   "source": [
    "## And this concludes Lab 4! "
   ]
  }
 ],
 "metadata": {
  "kernelspec": {
   "display_name": "Python 3",
   "language": "python",
   "name": "python3"
  },
  "language_info": {
   "codemirror_mode": {
    "name": "ipython",
    "version": 3
   },
   "file_extension": ".py",
   "mimetype": "text/x-python",
   "name": "python",
   "nbconvert_exporter": "python",
   "pygments_lexer": "ipython3",
   "version": "3.7.3"
  }
 },
 "nbformat": 4,
 "nbformat_minor": 1
}
